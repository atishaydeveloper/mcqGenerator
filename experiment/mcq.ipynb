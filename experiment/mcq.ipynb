{
 "cells": [
  {
   "cell_type": "code",
   "execution_count": 3,
   "metadata": {},
   "outputs": [],
   "source": [
    "import os\n",
    "import json\n",
    "import pandas as pd\n",
    "import traceback"
   ]
  },
  {
   "cell_type": "code",
   "execution_count": 12,
   "metadata": {},
   "outputs": [],
   "source": [
    "from langchain_google_genai import ChatGoogleGenerativeAI\n",
    "from langchain.prompts import PromptTemplate\n",
    "from langchain.chains import LLMChain\n",
    "from langchain.chains import SequentialChain\n",
    "from langchain.callbacks import get_openai_callback\n",
    "import PyPDF2"
   ]
  },
  {
   "cell_type": "code",
   "execution_count": 13,
   "metadata": {},
   "outputs": [],
   "source": [
    "key = os.getenv(\"GOOGLE_API_KEY\")"
   ]
  },
  {
   "cell_type": "code",
   "execution_count": 14,
   "metadata": {},
   "outputs": [],
   "source": [
    "llm = ChatGoogleGenerativeAI(model = \"gemini-2.0-flash\")"
   ]
  },
  {
   "cell_type": "code",
   "execution_count": 16,
   "metadata": {},
   "outputs": [],
   "source": [
    "TEMPLATE = \"\"\"\n",
    "Text:{text}\n",
    "You are an expert MCQ maker. Given the above text, it is your job to \\\n",
    "    create a quiz of {number} multiple choice questions for {subject} students in {tone} tone.\n",
    "    Make sure the questions are not repeated and check all the questions to be conforming the text as well.\n",
    "    Ensure to mke {number} MCQs with 4 options each.\n",
    "    ### Response_JSON ###\n",
    "    {response_json}\n",
    "\"\"\"\n"
   ]
  },
  {
   "cell_type": "code",
   "execution_count": 17,
   "metadata": {},
   "outputs": [],
   "source": [
    "RESPONSE_JSON = {\n",
    "    \"1\": {\n",
    "        \"mcq\": \"multiple choice question\",\n",
    "        \"options\": {\n",
    "            \"a\": \"choice here\",\n",
    "            \"b\": \"choice here\",\n",
    "            \"c\": \"choice here\",\n",
    "            \"d\": \"choice here\"\n",
    "        },\n",
    "        \"correct\": \"correct answer\",\n",
    "    },\n",
    "    \"2\": {\n",
    "        \"mcq\": \"multiple choice question\",\n",
    "        \"options\": {\n",
    "            \"a\": \"choice here\",\n",
    "            \"b\": \"choice here\",\n",
    "            \"c\": \"choice here\",\n",
    "            \"d\": \"choice here\"\n",
    "        },\n",
    "        \"correct\": \"correct answer\",\n",
    "    },\n",
    "    \"3\": {\n",
    "        \"mcq\": \"multiple choice question\",\n",
    "        \"options\": {\n",
    "            \"a\": \"choice here\",\n",
    "            \"b\": \"choice here\",\n",
    "            \"c\": \"choice here\",\n",
    "            \"d\": \"choice here\"\n",
    "        },\n",
    "        \"correct\": \"correct answer\",\n",
    "    },\n",
    "}"
   ]
  },
  {
   "cell_type": "code",
   "execution_count": 18,
   "metadata": {},
   "outputs": [],
   "source": [
    "quiz_generation_prompt = PromptTemplate(\n",
    "    input_variables=[\"text\",\"number\",\"subject\",\"tone\",\"response_json\"],\n",
    "    template = TEMPLATE\n",
    ")"
   ]
  },
  {
   "cell_type": "code",
   "execution_count": 30,
   "metadata": {},
   "outputs": [],
   "source": [
    "quiz_chain = LLMChain(\n",
    "    llm = llm,\n",
    "    prompt = quiz_generation_prompt,\n",
    "    output_key = \"quiz\",\n",
    "    verbose = True\n",
    ")"
   ]
  },
  {
   "cell_type": "code",
   "execution_count": 22,
   "metadata": {},
   "outputs": [],
   "source": [
    "TEMPLATE2 = \"\"\"\n",
    "You are an expert english grammarian and writer. Given a Multiple Choice Quiz for {subject} students.\\\n",
    "You need to evaluate the complexity of teh question and give a complete analysis of the quiz. only use at max 50 words for complexity, \n",
    "if the quiz is not at per with the cognitive and analytical abilities of the students,\\\n",
    "update the quiz questions which needs to be changed and change the tone such that it perfectly fits the student's ability.\n",
    "Quiz_MCQs:\n",
    "{quiz}     \n",
    "\n",
    "Check from an expert English writer of the above quiz:\n",
    "\"\"\""
   ]
  },
  {
   "cell_type": "code",
   "execution_count": 28,
   "metadata": {},
   "outputs": [],
   "source": [
    "quiz_evaluation_prompt = PromptTemplate(input_variables = [\"subject\",\"quiz\"], template=TEMPLATE2)"
   ]
  },
  {
   "cell_type": "code",
   "execution_count": 31,
   "metadata": {},
   "outputs": [],
   "source": [
    "review_chain = LLMChain(llm=llm, prompt = quiz_evaluation_prompt,output_key=\"review\", verbose=True)"
   ]
  },
  {
   "cell_type": "code",
   "execution_count": 32,
   "metadata": {},
   "outputs": [],
   "source": [
    "generate_evaluate_chain = SequentialChain(chains = [quiz_chain,review_chain], input_variables=[\"text\",\"number\",\"subject\",\"tone\",\"response_json\"], output_variables = [\"quiz\", \"review\"], verbose =True)"
   ]
  },
  {
   "cell_type": "code",
   "execution_count": 33,
   "metadata": {},
   "outputs": [
    {
     "name": "stderr",
     "output_type": "stream",
     "text": [
      "<>:1: SyntaxWarning: invalid escape sequence '\\A'\n",
      "<>:1: SyntaxWarning: invalid escape sequence '\\A'\n",
      "C:\\Users\\ASUS\\AppData\\Local\\Temp\\ipykernel_26056\\2570227045.py:1: SyntaxWarning: invalid escape sequence '\\A'\n",
      "  file_path = \"E:\\Ashu_Main\\mcqGenerator\\data.txt\"\n"
     ]
    }
   ],
   "source": [
    "file_path = \"E:\\Ashu_Main\\mcqGenerator\\data.txt\""
   ]
  },
  {
   "cell_type": "code",
   "execution_count": 35,
   "metadata": {},
   "outputs": [],
   "source": [
    "with open(file_path,'r', encoding='utf-8') as file:\n",
    "    TEXT = file.read()"
   ]
  },
  {
   "cell_type": "code",
   "execution_count": 37,
   "metadata": {},
   "outputs": [
    {
     "name": "stdout",
     "output_type": "stream",
     "text": [
      "Since deep learning and machine learning tend to be used interchangeably, it’s worth noting the nuances between the two. Machine learning, deep learning, and neural networks are all sub-fields of artificial intelligence. However, neural networks is actually a sub-field of machine learning, and deep learning is a sub-field of neural networks.\n",
      "\n",
      "The way in which deep learning and machine learning differ is in how each algorithm learns. \"Deep\" machine learning can use labeled datasets, also known as supervised learning, to inform its algorithm, but it doesn’t necessarily require a labeled dataset. The deep learning process can ingest unstructured data in its raw form (e.g., text or images), and it can automatically determine the set of features which distinguish different categories of data from one another. This eliminates some of the human intervention required and enables the use of large amounts of data. You can think of deep learning as \"scalable machine learning\" as Lex Fridman notes in this MIT lecture1.\n",
      "\n",
      "Classical, or \"non-deep,\" machine learning is more dependent on human intervention to learn. Human experts determine the set of features to understand the differences between data inputs, usually requiring more structured data to learn.\n",
      "\n",
      "Neural networks, or artificial neural networks (ANNs), are comprised of node layers, containing an input layer, one or more hidden layers, and an output layer. Each node, or artificial neuron, connects to another and has an associated weight and threshold. If the output of any individual node is above the specified threshold value, that node is activated, sending data to the next layer of the network. Otherwise, no data is passed along to the next layer of the network by that node. The “deep” in deep learning is just referring to the number of layers in a neural network. A neural network that consists of more than three layers—which would be inclusive of the input and the output—can be considered a deep learning algorithm or a deep neural network. A neural network that only has three layers is just a basic neural network.\n"
     ]
    }
   ],
   "source": [
    "print(TEXT)"
   ]
  },
  {
   "cell_type": "code",
   "execution_count": 38,
   "metadata": {},
   "outputs": [
    {
     "data": {
      "text/plain": [
       "'{\"1\": {\"mcq\": \"multiple choice question\", \"options\": {\"a\": \"choice here\", \"b\": \"choice here\", \"c\": \"choice here\", \"d\": \"choice here\"}, \"correct\": \"correct answer\"}, \"2\": {\"mcq\": \"multiple choice question\", \"options\": {\"a\": \"choice here\", \"b\": \"choice here\", \"c\": \"choice here\", \"d\": \"choice here\"}, \"correct\": \"correct answer\"}, \"3\": {\"mcq\": \"multiple choice question\", \"options\": {\"a\": \"choice here\", \"b\": \"choice here\", \"c\": \"choice here\", \"d\": \"choice here\"}, \"correct\": \"correct answer\"}}'"
      ]
     },
     "execution_count": 38,
     "metadata": {},
     "output_type": "execute_result"
    }
   ],
   "source": [
    "json.dumps(RESPONSE_JSON)"
   ]
  },
  {
   "cell_type": "code",
   "execution_count": 39,
   "metadata": {},
   "outputs": [],
   "source": [
    "NUMBER = 5\n",
    "SUBJECT = \"Machine learning\"\n",
    "TONE = \"simple\""
   ]
  },
  {
   "cell_type": "code",
   "execution_count": 40,
   "metadata": {},
   "outputs": [
    {
     "name": "stderr",
     "output_type": "stream",
     "text": [
      "C:\\Users\\ASUS\\AppData\\Local\\Temp\\ipykernel_26056\\861068774.py:2: LangChainDeprecationWarning: The method `Chain.__call__` was deprecated in langchain 0.1.0 and will be removed in 1.0. Use :meth:`~invoke` instead.\n",
      "  response = generate_evaluate_chain(\n"
     ]
    },
    {
     "name": "stdout",
     "output_type": "stream",
     "text": [
      "\n",
      "\n",
      "\u001b[1m> Entering new SequentialChain chain...\u001b[0m\n",
      "\n",
      "\n",
      "\u001b[1m> Entering new LLMChain chain...\u001b[0m\n",
      "Prompt after formatting:\n",
      "\u001b[32;1m\u001b[1;3m\n",
      "Text:Since deep learning and machine learning tend to be used interchangeably, it’s worth noting the nuances between the two. Machine learning, deep learning, and neural networks are all sub-fields of artificial intelligence. However, neural networks is actually a sub-field of machine learning, and deep learning is a sub-field of neural networks.\n",
      "\n",
      "The way in which deep learning and machine learning differ is in how each algorithm learns. \"Deep\" machine learning can use labeled datasets, also known as supervised learning, to inform its algorithm, but it doesn’t necessarily require a labeled dataset. The deep learning process can ingest unstructured data in its raw form (e.g., text or images), and it can automatically determine the set of features which distinguish different categories of data from one another. This eliminates some of the human intervention required and enables the use of large amounts of data. You can think of deep learning as \"scalable machine learning\" as Lex Fridman notes in this MIT lecture1.\n",
      "\n",
      "Classical, or \"non-deep,\" machine learning is more dependent on human intervention to learn. Human experts determine the set of features to understand the differences between data inputs, usually requiring more structured data to learn.\n",
      "\n",
      "Neural networks, or artificial neural networks (ANNs), are comprised of node layers, containing an input layer, one or more hidden layers, and an output layer. Each node, or artificial neuron, connects to another and has an associated weight and threshold. If the output of any individual node is above the specified threshold value, that node is activated, sending data to the next layer of the network. Otherwise, no data is passed along to the next layer of the network by that node. The “deep” in deep learning is just referring to the number of layers in a neural network. A neural network that consists of more than three layers—which would be inclusive of the input and the output—can be considered a deep learning algorithm or a deep neural network. A neural network that only has three layers is just a basic neural network.\n",
      "You are an expert MCQ maker. Given the above text, it is your job to     create a quiz of 5 multiple choice questions for Machine learning students in simple tone.\n",
      "    Make sure the questions are not repeated and check all the questions to be conforming the text as well.\n",
      "    Ensure to mke 5 MCQs with 4 options each.\n",
      "    ### Response_JSON ###\n",
      "    {\"1\": {\"mcq\": \"multiple choice question\", \"options\": {\"a\": \"choice here\", \"b\": \"choice here\", \"c\": \"choice here\", \"d\": \"choice here\"}, \"correct\": \"correct answer\"}, \"2\": {\"mcq\": \"multiple choice question\", \"options\": {\"a\": \"choice here\", \"b\": \"choice here\", \"c\": \"choice here\", \"d\": \"choice here\"}, \"correct\": \"correct answer\"}, \"3\": {\"mcq\": \"multiple choice question\", \"options\": {\"a\": \"choice here\", \"b\": \"choice here\", \"c\": \"choice here\", \"d\": \"choice here\"}, \"correct\": \"correct answer\"}}\n",
      "\u001b[0m\n",
      "\n",
      "\u001b[1m> Finished chain.\u001b[0m\n",
      "\n",
      "\n",
      "\u001b[1m> Entering new LLMChain chain...\u001b[0m\n",
      "Prompt after formatting:\n",
      "\u001b[32;1m\u001b[1;3m\n",
      "You are an expert english grammarian and writer. Given a Multiple Choice Quiz for Machine learning students.You need to evaluate the complexity of teh question and give a complete analysis of the quiz. only use at max 50 words for complexity, \n",
      "if the quiz is not at per with the cognitive and analytical abilities of the students,update the quiz questions which needs to be changed and change the tone such that it perfectly fits the student's ability.\n",
      "Quiz_MCQs:\n",
      "```json\n",
      "{\n",
      "  \"1\": {\n",
      "    \"mcq\": \"Which of the following correctly represents the relationship between AI, Machine Learning, Deep Learning, and Neural Networks?\",\n",
      "    \"options\": {\n",
      "      \"a\": \"AI is a sub-field of Machine Learning, which is a sub-field of Deep Learning, which contains Neural Networks.\",\n",
      "      \"b\": \"Machine Learning is a sub-field of AI, which contains Neural Networks, and Deep Learning is a sub-field of Neural Networks.\",\n",
      "      \"c\": \"Neural Networks is a sub-field of AI, which contains Machine Learning, and Deep Learning is a sub-field of Machine Learning.\",\n",
      "      \"d\": \"AI encompasses Machine Learning, Neural Networks is a sub-field of Machine Learning, and Deep Learning is a sub-field of Neural Networks.\"\n",
      "    },\n",
      "    \"correct\": \"d\"\n",
      "  },\n",
      "  \"2\": {\n",
      "    \"mcq\": \"What is a key difference in how deep learning and classical machine learning algorithms learn?\",\n",
      "    \"options\": {\n",
      "      \"a\": \"Deep learning requires labeled datasets, while classical machine learning does not.\",\n",
      "      \"b\": \"Classical machine learning can ingest unstructured data, while deep learning requires structured data.\",\n",
      "      \"c\": \"Deep learning can automatically determine distinguishing features from raw data, while classical machine learning relies on human-defined features.\",\n",
      "      \"d\": \"Classical machine learning is more scalable than deep learning, allowing for larger datasets.\"\n",
      "    },\n",
      "    \"correct\": \"c\"\n",
      "  },\n",
      "  \"3\": {\n",
      "    \"mcq\": \"According to the text, what makes a neural network 'deep'?\",\n",
      "    \"options\": {\n",
      "      \"a\": \"The complexity of the individual nodes within the network.\",\n",
      "      \"b\": \"The use of unsupervised learning techniques.\",\n",
      "      \"c\": \"The number of layers in the network exceeding three (including input and output layers).\",\n",
      "      \"d\": \"The specific type of activation function used in the nodes.\"\n",
      "    },\n",
      "    \"correct\": \"c\"\n",
      "  },\n",
      "  \"4\": {\n",
      "    \"mcq\": \"What type of data can deep learning ingest?\",\n",
      "    \"options\": {\n",
      "      \"a\": \"Only structured data such as spreadsheets.\",\n",
      "      \"b\": \"Only labeled datasets.\",\n",
      "      \"c\": \"Unstructured data in its raw form, like text or images.\",\n",
      "      \"d\": \"Only numerical data.\"\n",
      "    },\n",
      "    \"correct\": \"c\"\n",
      "  },\n",
      "  \"5\": {\n",
      "    \"mcq\": \"What is the role of 'weight' and 'threshold' in a neural network?\",\n",
      "    \"options\": {\n",
      "      \"a\": \"They determine the color and size of the nodes.\",\n",
      "      \"b\": \"They control whether a node activates and passes data to the next layer.\",\n",
      "      \"c\": \"They define the input data format.\",\n",
      "      \"d\": \"They are used for data encryption.\"\n",
      "    },\n",
      "    \"correct\": \"b\"\n",
      "  }\n",
      "}\n",
      "```     \n",
      "\n",
      "Check from an expert English writer of the above quiz:\n",
      "\u001b[0m\n",
      "\n",
      "\u001b[1m> Finished chain.\u001b[0m\n",
      "\n",
      "\u001b[1m> Finished chain.\u001b[0m\n"
     ]
    }
   ],
   "source": [
    "with get_openai_callback() as cb:\n",
    "    response = generate_evaluate_chain(\n",
    "        {\n",
    "            \"text\": TEXT,\n",
    "            \"number\": NUMBER,\n",
    "            \"subject\": SUBJECT,\n",
    "            \"tone\": TONE,\n",
    "            \"response_json\": json.dumps(RESPONSE_JSON)\n",
    "        }\n",
    "    )"
   ]
  },
  {
   "cell_type": "code",
   "execution_count": 41,
   "metadata": {},
   "outputs": [
    {
     "name": "stdout",
     "output_type": "stream",
     "text": [
      "Total Tokens: 2857\n",
      "Prompt Token: 1415\n",
      "Completion Tokens: 1442\n",
      "Total Cost: 0.0\n"
     ]
    }
   ],
   "source": [
    "print(f\"Total Tokens: {cb.total_tokens}\")\n",
    "print(f\"Prompt Token: {cb.prompt_tokens}\")\n",
    "print(f\"Completion Tokens: {cb.completion_tokens}\")\n",
    "print(f\"Total Cost: {cb.total_cost}\")"
   ]
  },
  {
   "cell_type": "code",
   "execution_count": 42,
   "metadata": {},
   "outputs": [
    {
     "data": {
      "text/plain": [
       "{'text': 'Since deep learning and machine learning tend to be used interchangeably, it’s worth noting the nuances between the two. Machine learning, deep learning, and neural networks are all sub-fields of artificial intelligence. However, neural networks is actually a sub-field of machine learning, and deep learning is a sub-field of neural networks.\\n\\nThe way in which deep learning and machine learning differ is in how each algorithm learns. \"Deep\" machine learning can use labeled datasets, also known as supervised learning, to inform its algorithm, but it doesn’t necessarily require a labeled dataset. The deep learning process can ingest unstructured data in its raw form (e.g., text or images), and it can automatically determine the set of features which distinguish different categories of data from one another. This eliminates some of the human intervention required and enables the use of large amounts of data. You can think of deep learning as \"scalable machine learning\" as Lex Fridman notes in this MIT lecture1.\\n\\nClassical, or \"non-deep,\" machine learning is more dependent on human intervention to learn. Human experts determine the set of features to understand the differences between data inputs, usually requiring more structured data to learn.\\n\\nNeural networks, or artificial neural networks (ANNs), are comprised of node layers, containing an input layer, one or more hidden layers, and an output layer. Each node, or artificial neuron, connects to another and has an associated weight and threshold. If the output of any individual node is above the specified threshold value, that node is activated, sending data to the next layer of the network. Otherwise, no data is passed along to the next layer of the network by that node. The “deep” in deep learning is just referring to the number of layers in a neural network. A neural network that consists of more than three layers—which would be inclusive of the input and the output—can be considered a deep learning algorithm or a deep neural network. A neural network that only has three layers is just a basic neural network.',\n",
       " 'number': 5,\n",
       " 'subject': 'Machine learning',\n",
       " 'tone': 'simple',\n",
       " 'response_json': '{\"1\": {\"mcq\": \"multiple choice question\", \"options\": {\"a\": \"choice here\", \"b\": \"choice here\", \"c\": \"choice here\", \"d\": \"choice here\"}, \"correct\": \"correct answer\"}, \"2\": {\"mcq\": \"multiple choice question\", \"options\": {\"a\": \"choice here\", \"b\": \"choice here\", \"c\": \"choice here\", \"d\": \"choice here\"}, \"correct\": \"correct answer\"}, \"3\": {\"mcq\": \"multiple choice question\", \"options\": {\"a\": \"choice here\", \"b\": \"choice here\", \"c\": \"choice here\", \"d\": \"choice here\"}, \"correct\": \"correct answer\"}}',\n",
       " 'quiz': '```json\\n{\\n  \"1\": {\\n    \"mcq\": \"Which of the following correctly represents the relationship between AI, Machine Learning, Deep Learning, and Neural Networks?\",\\n    \"options\": {\\n      \"a\": \"AI is a sub-field of Machine Learning, which is a sub-field of Deep Learning, which contains Neural Networks.\",\\n      \"b\": \"Machine Learning is a sub-field of AI, which contains Neural Networks, and Deep Learning is a sub-field of Neural Networks.\",\\n      \"c\": \"Neural Networks is a sub-field of AI, which contains Machine Learning, and Deep Learning is a sub-field of Machine Learning.\",\\n      \"d\": \"AI encompasses Machine Learning, Neural Networks is a sub-field of Machine Learning, and Deep Learning is a sub-field of Neural Networks.\"\\n    },\\n    \"correct\": \"d\"\\n  },\\n  \"2\": {\\n    \"mcq\": \"What is a key difference in how deep learning and classical machine learning algorithms learn?\",\\n    \"options\": {\\n      \"a\": \"Deep learning requires labeled datasets, while classical machine learning does not.\",\\n      \"b\": \"Classical machine learning can ingest unstructured data, while deep learning requires structured data.\",\\n      \"c\": \"Deep learning can automatically determine distinguishing features from raw data, while classical machine learning relies on human-defined features.\",\\n      \"d\": \"Classical machine learning is more scalable than deep learning, allowing for larger datasets.\"\\n    },\\n    \"correct\": \"c\"\\n  },\\n  \"3\": {\\n    \"mcq\": \"According to the text, what makes a neural network \\'deep\\'?\",\\n    \"options\": {\\n      \"a\": \"The complexity of the individual nodes within the network.\",\\n      \"b\": \"The use of unsupervised learning techniques.\",\\n      \"c\": \"The number of layers in the network exceeding three (including input and output layers).\",\\n      \"d\": \"The specific type of activation function used in the nodes.\"\\n    },\\n    \"correct\": \"c\"\\n  },\\n  \"4\": {\\n    \"mcq\": \"What type of data can deep learning ingest?\",\\n    \"options\": {\\n      \"a\": \"Only structured data such as spreadsheets.\",\\n      \"b\": \"Only labeled datasets.\",\\n      \"c\": \"Unstructured data in its raw form, like text or images.\",\\n      \"d\": \"Only numerical data.\"\\n    },\\n    \"correct\": \"c\"\\n  },\\n  \"5\": {\\n    \"mcq\": \"What is the role of \\'weight\\' and \\'threshold\\' in a neural network?\",\\n    \"options\": {\\n      \"a\": \"They determine the color and size of the nodes.\",\\n      \"b\": \"They control whether a node activates and passes data to the next layer.\",\\n      \"c\": \"They define the input data format.\",\\n      \"d\": \"They are used for data encryption.\"\\n    },\\n    \"correct\": \"b\"\\n  }\\n}\\n```',\n",
       " 'review': 'Okay, here\\'s an analysis of the provided Machine Learning quiz, along with suggested improvements:\\n\\n**Complexity Analysis:**\\n\\nThe quiz is generally appropriate for introductory machine learning students. The language is accessible, and the concepts tested are fundamental. However, some questions could be phrased more directly to avoid potential ambiguity.\\n\\n**Revised Quiz Questions:**\\n\\nHere\\'s the quiz with tweaked questions for improved clarity:\\n\\n```json\\n{\\n  \"1\": {\\n    \"mcq\": \"Which statement best describes the relationship between AI, Machine Learning, Deep Learning, and Neural Networks?\",\\n    \"options\": {\\n      \"a\": \"AI -> Machine Learning -> Deep Learning -> Neural Networks (Deep Learning contains Neural Networks)\",\\n      \"b\": \"AI <- Machine Learning -> Neural Networks -> Deep Learning (Neural Networks contains Deep Learning)\",\\n      \"c\": \"AI <- Neural Networks -> Machine Learning -> Deep Learning (Machine Learning contains Deep Learning)\",\\n      \"d\": \"AI -> Machine Learning -> Neural Networks -> Deep Learning (Deep Learning is a subset of Neural Networks)\"\\n    },\\n    \"correct\": \"d\"\\n  },\\n  \"2\": {\\n    \"mcq\": \"What\\'s a main difference between how deep learning and traditional machine learning learn?\",\\n    \"options\": {\\n      \"a\": \"Deep learning needs labeled data; traditional machine learning doesn\\'t.\",\\n      \"b\": \"Traditional machine learning handles unstructured data; deep learning needs structured data.\",\\n      \"c\": \"Deep learning automatically finds important features; traditional machine learning needs features defined by a person.\",\\n      \"d\": \"Traditional machine learning scales better to larger datasets than deep learning.\"\\n    },\\n    \"correct\": \"c\"\\n  },\\n  \"3\": {\\n    \"mcq\": \"What makes a neural network \\'deep\\'?\",\\n    \"options\": {\\n      \"a\": \"The complexity inside each node.\",\\n      \"b\": \"Using unsupervised learning.\",\\n      \"c\": \"Having more than three layers (including input and output).\",\\n      \"d\": \"The specific activation function used.\"\\n    },\\n    \"correct\": \"c\"\\n  },\\n  \"4\": {\\n    \"mcq\": \"What kind of data can deep learning use?\",\\n    \"options\": {\\n      \"a\": \"Only structured data like spreadsheets.\",\\n      \"b\": \"Only labeled data.\",\\n      \"c\": \"Unstructured data like text or images.\",\\n      \"d\": \"Only numbers.\"\\n    },\\n    \"correct\": \"c\"\\n  },\\n  \"5\": {\\n    \"mcq\": \"What do \\'weight\\' and \\'threshold\\' do in a neural network?\",\\n    \"options\": {\\n      \"a\": \"They change the look of the nodes.\",\\n      \"b\": \"They decide if a node activates and sends data on.\",\\n      \"c\": \"They set the input data format.\",\\n      \"d\": \"They encrypt data.\"\\n    },\\n    \"correct\": \"b\"\\n  }\\n}\\n```\\n\\n**Explanation of Changes:**\\n\\n*   **Simplified Language:** Replaced phrases like \"correctly represents the relationship\" with more direct phrasing like \"best describes the relationship.\"\\n*   **More Concise Options:** Shortened the options where possible to improve readability.\\n*   **Focus on Key Concepts:** Ensured that each question directly addresses a core concept in a clear and unambiguous way.\\n*   **Plain English:** Replaced formal wording with everyday language. For example, \"ingest\" changed to \"use.\"\\n*   **Consistency:** Maintained a consistent tone and level of difficulty across all questions.\\n\\nThese revisions aim to make the quiz more accessible and effective for machine learning students.'}"
      ]
     },
     "execution_count": 42,
     "metadata": {},
     "output_type": "execute_result"
    }
   ],
   "source": [
    "response"
   ]
  },
  {
   "cell_type": "code",
   "execution_count": 43,
   "metadata": {},
   "outputs": [],
   "source": [
    "quiz = response.get(\"quiz\")"
   ]
  },
  {
   "cell_type": "code",
   "execution_count": 45,
   "metadata": {},
   "outputs": [],
   "source": [
    "quiz_json_str = response.get(\"quiz\", \"\").strip(\"```json\\n\").strip(\"```\")"
   ]
  },
  {
   "cell_type": "code",
   "execution_count": 47,
   "metadata": {},
   "outputs": [],
   "source": [
    "quiz_data = json.loads(quiz_json_str)"
   ]
  },
  {
   "cell_type": "code",
   "execution_count": 48,
   "metadata": {},
   "outputs": [
    {
     "name": "stdout",
     "output_type": "stream",
     "text": [
      "{'1': {'mcq': 'Which of the following correctly represents the relationship between AI, Machine Learning, Deep Learning, and Neural Networks?', 'options': {'a': 'AI is a sub-field of Machine Learning, which is a sub-field of Deep Learning, which contains Neural Networks.', 'b': 'Machine Learning is a sub-field of AI, which contains Neural Networks, and Deep Learning is a sub-field of Neural Networks.', 'c': 'Neural Networks is a sub-field of AI, which contains Machine Learning, and Deep Learning is a sub-field of Machine Learning.', 'd': 'AI encompasses Machine Learning, Neural Networks is a sub-field of Machine Learning, and Deep Learning is a sub-field of Neural Networks.'}, 'correct': 'd'}, '2': {'mcq': 'What is a key difference in how deep learning and classical machine learning algorithms learn?', 'options': {'a': 'Deep learning requires labeled datasets, while classical machine learning does not.', 'b': 'Classical machine learning can ingest unstructured data, while deep learning requires structured data.', 'c': 'Deep learning can automatically determine distinguishing features from raw data, while classical machine learning relies on human-defined features.', 'd': 'Classical machine learning is more scalable than deep learning, allowing for larger datasets.'}, 'correct': 'c'}, '3': {'mcq': \"According to the text, what makes a neural network 'deep'?\", 'options': {'a': 'The complexity of the individual nodes within the network.', 'b': 'The use of unsupervised learning techniques.', 'c': 'The number of layers in the network exceeding three (including input and output layers).', 'd': 'The specific type of activation function used in the nodes.'}, 'correct': 'c'}, '4': {'mcq': 'What type of data can deep learning ingest?', 'options': {'a': 'Only structured data such as spreadsheets.', 'b': 'Only labeled datasets.', 'c': 'Unstructured data in its raw form, like text or images.', 'd': 'Only numerical data.'}, 'correct': 'c'}, '5': {'mcq': \"What is the role of 'weight' and 'threshold' in a neural network?\", 'options': {'a': 'They determine the color and size of the nodes.', 'b': 'They control whether a node activates and passes data to the next layer.', 'c': 'They define the input data format.', 'd': 'They are used for data encryption.'}, 'correct': 'b'}}\n"
     ]
    }
   ],
   "source": [
    "print(quiz_data)"
   ]
  },
  {
   "cell_type": "code",
   "execution_count": 50,
   "metadata": {},
   "outputs": [],
   "source": [
    "quiz_table_data = []\n",
    "for key,value in quiz_data.items():\n",
    "    mcq = value[\"mcq\"]\n",
    "    options = \" | \".join(\n",
    "        [\n",
    "            f\"{option}: {option_value}\"\n",
    "            for option, option_value in value[\"options\"].items()\n",
    "        ]\n",
    "    )\n",
    "    correct = value[\"correct\"]\n",
    "    quiz_table_data.append({\"MCQ\":mcq, \"Choices\": options, \"Correct\": correct})"
   ]
  },
  {
   "cell_type": "code",
   "execution_count": 51,
   "metadata": {},
   "outputs": [
    {
     "data": {
      "text/plain": [
       "[{'MCQ': 'Which of the following correctly represents the relationship between AI, Machine Learning, Deep Learning, and Neural Networks?',\n",
       "  'Choices': 'a: AI is a sub-field of Machine Learning, which is a sub-field of Deep Learning, which contains Neural Networks. | b: Machine Learning is a sub-field of AI, which contains Neural Networks, and Deep Learning is a sub-field of Neural Networks. | c: Neural Networks is a sub-field of AI, which contains Machine Learning, and Deep Learning is a sub-field of Machine Learning. | d: AI encompasses Machine Learning, Neural Networks is a sub-field of Machine Learning, and Deep Learning is a sub-field of Neural Networks.',\n",
       "  'Correct': 'd'},\n",
       " {'MCQ': 'What is a key difference in how deep learning and classical machine learning algorithms learn?',\n",
       "  'Choices': 'a: Deep learning requires labeled datasets, while classical machine learning does not. | b: Classical machine learning can ingest unstructured data, while deep learning requires structured data. | c: Deep learning can automatically determine distinguishing features from raw data, while classical machine learning relies on human-defined features. | d: Classical machine learning is more scalable than deep learning, allowing for larger datasets.',\n",
       "  'Correct': 'c'},\n",
       " {'MCQ': \"According to the text, what makes a neural network 'deep'?\",\n",
       "  'Choices': 'a: The complexity of the individual nodes within the network. | b: The use of unsupervised learning techniques. | c: The number of layers in the network exceeding three (including input and output layers). | d: The specific type of activation function used in the nodes.',\n",
       "  'Correct': 'c'},\n",
       " {'MCQ': 'What type of data can deep learning ingest?',\n",
       "  'Choices': 'a: Only structured data such as spreadsheets. | b: Only labeled datasets. | c: Unstructured data in its raw form, like text or images. | d: Only numerical data.',\n",
       "  'Correct': 'c'},\n",
       " {'MCQ': \"What is the role of 'weight' and 'threshold' in a neural network?\",\n",
       "  'Choices': 'a: They determine the color and size of the nodes. | b: They control whether a node activates and passes data to the next layer. | c: They define the input data format. | d: They are used for data encryption.',\n",
       "  'Correct': 'b'}]"
      ]
     },
     "execution_count": 51,
     "metadata": {},
     "output_type": "execute_result"
    }
   ],
   "source": [
    "quiz_table_data"
   ]
  },
  {
   "cell_type": "code",
   "execution_count": 54,
   "metadata": {},
   "outputs": [],
   "source": [
    "quiz = pd.DataFrame(quiz_table_data)"
   ]
  },
  {
   "cell_type": "code",
   "execution_count": 55,
   "metadata": {},
   "outputs": [],
   "source": [
    "quiz.to_csv(\"machine_learning.csv\",index=False)"
   ]
  },
  {
   "cell_type": "code",
   "execution_count": null,
   "metadata": {},
   "outputs": [],
   "source": []
  }
 ],
 "metadata": {
  "kernelspec": {
   "display_name": "yt30hrs",
   "language": "python",
   "name": "python3"
  },
  "language_info": {
   "codemirror_mode": {
    "name": "ipython",
    "version": 3
   },
   "file_extension": ".py",
   "mimetype": "text/x-python",
   "name": "python",
   "nbconvert_exporter": "python",
   "pygments_lexer": "ipython3",
   "version": "3.12.6"
  }
 },
 "nbformat": 4,
 "nbformat_minor": 2
}
